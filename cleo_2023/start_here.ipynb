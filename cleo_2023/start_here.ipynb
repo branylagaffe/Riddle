{
 "cells": [
  {
   "attachments": {},
   "cell_type": "markdown",
   "metadata": {},
   "source": [
    "### Hello\n",
    "\n",
    "Commence ici, la variable *cipher_message* contient la totalité du text chiffré.\n",
    "\n",
    "Le reste, je te laisse le chercher ;)"
   ]
  },
  {
   "cell_type": "code",
   "execution_count": 10,
   "metadata": {},
   "outputs": [
    {
     "data": {
      "text/plain": [
       "\"J ejxhw wpiakr yzd iwepwwp xakhhyerwp,\\nMzk, rwh ze ypraw wchykayer hy ezkr,\\nYp lwcokttaw qje wekgqw ryer yalwerw,\\nVw rw pyhzw, j gwekw pyep iyawkh !\\n\\nRje wpiakr, rwh ze tke qwcyekpqw l'ojahjgwakw,\\nP'wpr ghkppw lyep hwp lwlyhwp lw qy iajpw,\\nCjqqw zew chw iawckwzpw, j qwauwkhhwzpw qygkw,\\nRz yp lwujkhw qwp qfprwawp, j qy xwhhw ajpw !\\n\\nRje lkihjqw l'kegwekwzaw wpr hy iawzuw wchyryerw,\\nLw rje pyujka, lw rje wpiakr cjemzwayer,\\nQykp ry pjkt lw cjeeykppyecw ew cjeeykr ijker lw hkqkrw,\\nCya rwp ojaknjep p'wrwelwer xkwe yz-lwhy lwp pfprwqwp xkeykawp.\\n\\nMzw rwp iyp rw qwewer uwap lwp cjerawwp ejzuwhhwp,\\nJz hwp cokttawp pw qyakwer yzd qjrp hwp ihzp xwyzd,\\nHy jz hwp wmzyrkjep lyepwer yuwc hwp akqwp,\\nWr hwp yhgjakroqwp pw cjetjelwer yuwc hwp wcojp.\\n\\nMzw hwp ijwqwp thwzakppwer pjzp ry ihzqw oyxkhw,\\nMzw rje gwekw p'wiyejzkppw lyep h'yar pzxrkh,\\nCya rz wp h'kegwekwzaw lwp qjrp, hy qzpw lwp wpiakrp,\\nWr ry mzwrw lw pyujka wpr ze rawpja ketkek.\\n\\nTwhkckryrkjep, j wpiakr wchykaw,\\nRjk mzk yp awhwuw hw lwtk lw qje wekgqw pycaww,\\nMzw ry awzppkrw khhzqkew rje cowqke,\\nWr mzw rje ryhwer kepikaw hwp yqwp we mzwrw lw lwprke.\\n\\nJ xwhhw kegwekwzaw, ry ukcrjkaw wpr ghjakwzpw,\\nWr rwp iyp awpjeewer we wcojp oyaqjekwzd,\\nIzkppwer hwp qjrp wr hwp cokttawp lyepwa y h'zekppje,\\nWr r'jttaka ze yuweka aylkwzd, j pzxhkqw ukpkje.\\n\\nTwhkckryrkjep, j ejxhw wpiakr, rz wp ze wuwkhhwza,\\nZe ijer weraw hwp qjelwp lw h'yar wr lw hy pckwecw,\\nMzw rje iyacjzap pjkr zew pfqiojekw lw hzqkwawp,\\nWr mzw ry iyppkje r'whwuw uwap hwp ckwzd lw hy rayepcwelyecw.\\n\\nXayuj y rjk, j lwcokttawzpw wqwakrw,\\nMzw rje ryhwer wchyrw lyep ze twz l'yarktkcw,\\nCya rz wp zew wrjkhw lyep hy ezkr lwp wekgqwp,\\nWr rje wpiakr xakhhyer wpr zew qwauwkhhw lw h'zekuwap.\\n\\nMzw hwp qjrp p'werawhycwer we uwap twcjelp,\\nWr mzw rje wpiakr kegwekwzd jzuaw lw ejzuwyzd ojaknjep,\\nTwhkckryrkjep, j cowaw kegwekwzaw lwp qjrp,\\nMzw ry ukw pjkr zew pfqiojekw we iwaiwrzwh awejzuwyz.\""
      ]
     },
     "execution_count": 10,
     "metadata": {},
     "output_type": "execute_result"
    }
   ],
   "source": [
    "with open('./riddle_cipher.txt', 'r') as file:\n",
    "    cipher_message = file.read()\n",
    "\n",
    "cipher_message"
   ]
  },
  {
   "cell_type": "code",
   "execution_count": null,
   "metadata": {},
   "outputs": [],
   "source": []
  }
 ],
 "metadata": {
  "kernelspec": {
   "display_name": "riddle_cleo-BbOlA-74",
   "language": "python",
   "name": "python3"
  },
  "language_info": {
   "codemirror_mode": {
    "name": "ipython",
    "version": 3
   },
   "file_extension": ".py",
   "mimetype": "text/x-python",
   "name": "python",
   "nbconvert_exporter": "python",
   "pygments_lexer": "ipython3",
   "version": "3.10.4"
  },
  "orig_nbformat": 4
 },
 "nbformat": 4,
 "nbformat_minor": 2
}
