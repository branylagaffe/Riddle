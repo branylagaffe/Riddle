{
 "cells": [
  {
   "attachments": {},
   "cell_type": "markdown",
   "metadata": {},
   "source": [
    "### Hello\n",
    "\n",
    "Commence ici, la variable *cipher_message* contient la totalité du text chiffré.\n",
    "\n",
    "Le reste, je te laisse le chercher ;)"
   ]
  },
  {
   "cell_type": "code",
   "execution_count": 623,
   "metadata": {},
   "outputs": [
    {
     "name": "stdout",
     "output_type": "stream",
     "text": [
      "J ejxhw wpiakr yzd iwepwwp xakhhyerwp,\n",
      "Mzk, rwh ze ypraw wchykayer hy ezkr,\n",
      "Yp lwcokttaw qje wekgqw ryer yalwerw,\n",
      "Vw rw pyhzw, j gwekw pyep iyawkh !\n",
      "\n",
      "Rje wpiakr, rwh ze tke qwcyekpqw l'ojahjgwakw,\n",
      "P'wpr ghkppw lyep hwp lwlyhwp lw qy iajpw,\n",
      "Cjqqw zew chw iawckwzpw, j qwauwkhhwzpw qygkw,\n",
      "Rz yp lwujkhw qwp qfprwawp, j qy xwhhw ajpw !\n",
      "\n",
      "Rje lkihjqw l'kegwekwzaw wpr hy iawzuw wchyryerw,\n",
      "Lw rje pyujka, lw rje wpiakr cjemzwayer,\n",
      "Qykp ry pjkt lw cjeeykppyecw ew cjeeykr ijker lw hkqkrw,\n",
      "Cya rwp ojaknjep p'wrwelwer xkwe yz-lwhy lwp pfprwqwp xkeykawp.\n",
      "\n",
      "Mzw rwp iyp rw qwewer uwap lwp cjerawwp ejzuwhhwp,\n",
      "Jz hwp cokttawp pw qyakwer yzd qjrp hwp ihzp xwyzd,\n",
      "Hy jz hwp wmzyrkjep lyepwer yuwc hwp akqwp,\n",
      "Wr hwp yhgjakroqwp pw cjetjelwer yuwc hwp wcojp.\n",
      "\n",
      "Mzw hwp ijwqwp thwzakppwer pjzp ry ihzqw oyxkhw,\n",
      "Mzw rje gwekw p'wiyejzkppw lyep h'yar pzxrkh,\n",
      "Cya rz wp h'kegwekwzaw lwp qjrp, hy qzpw lwp wpiakrp,\n",
      "Wr ry mzwrw lw pyujka wpr ze rawpja ketkek.\n",
      "\n",
      "Twhkckryrkjep, j wpiakr wchykaw,\n",
      "Rjk mzk yp awhwuw hw lwtk lw qje wekgqw pycaww,\n",
      "Mzw ry awzppkrw khhzqkew rje cowqke,\n",
      "Wr mzw rje ryhwer kepikaw hwp yqwp we mzwrw lw lwprke.\n",
      "\n",
      "J xwhhw kegwekwzaw, ry ukcrjkaw wpr ghjakwzpw,\n",
      "Wr rwp iyp awpjeewer we wcojp oyaqjekwzd,\n",
      "Izkppwer hwp qjrp wr hwp cokttawp lyepwa y h'zekppje,\n",
      "Wr r'jttaka ze yuweka aylkwzd, j pzxhkqw ukpkje.\n",
      "\n",
      "Twhkckryrkjep, j ejxhw wpiakr, rz wp ze wuwkhhwza,\n",
      "Ze ijer weraw hwp qjelwp lw h'yar wr lw hy pckwecw,\n",
      "Mzw rje iyacjzap pjkr zew pfqiojekw lw hzqkwawp,\n",
      "Wr mzw ry iyppkje r'whwuw uwap hwp ckwzd lw hy rayepcwelyecw.\n",
      "\n",
      "Xayuj y rjk, j lwcokttawzpw wqwakrw,\n",
      "Mzw rje ryhwer wchyrw lyep ze twz l'yarktkcw,\n",
      "Cya rz wp zew wrjkhw lyep hy ezkr lwp wekgqwp,\n",
      "Wr rje wpiakr xakhhyer wpr zew qwauwkhhw lw h'zekuwap.\n",
      "\n",
      "Mzw hwp qjrp p'werawhycwer we uwap twcjelp,\n",
      "Wr mzw rje wpiakr kegwekwzd jzuaw lw ejzuwyzd ojaknjep,\n",
      "Twhkckryrkjep, j cowaw kegwekwzaw lwp qjrp,\n",
      "Mzw ry ukw pjkr zew pfqiojekw we iwaiwrzwh awejzuwyz.\n"
     ]
    }
   ],
   "source": [
    "with open('./riddle_cipher.txt', 'r') as file:\n",
    "    cipher_message = file.read()\n",
    "\n",
    "print(cipher_message)"
   ]
  },
  {
   "cell_type": "code",
   "execution_count": 624,
   "metadata": {},
   "outputs": [],
   "source": [
    "import numpy as np\n",
    "import string\n",
    "import matplotlib.pyplot as plt"
   ]
  },
  {
   "cell_type": "markdown",
   "metadata": {},
   "source": [
    "# First try"
   ]
  },
  {
   "cell_type": "code",
   "execution_count": 625,
   "metadata": {},
   "outputs": [],
   "source": [
    "# Function that counts the number of occurence of a given letter in a string\n",
    "def count_letter_freq(str):\n",
    "    freq = {}\n",
    "    for letter in str:\n",
    "        keys = freq.keys()\n",
    "        if letter in keys:\n",
    "            freq[letter] += 1\n",
    "        else:\n",
    "            freq[letter] = 1\n",
    "    \n",
    "    return freq\n",
    "\n",
    "# Create a dictionary with letter frequency in the cipher\n",
    "cipher_letter_freq = count_letter_freq(cipher_message.lower())"
   ]
  },
  {
   "cell_type": "code",
   "execution_count": 626,
   "metadata": {},
   "outputs": [],
   "source": [
    "# Create a dictionary with letter frequency in french\n",
    "french_letter_freq = {'a': 9.42, 'b': 1.02, 'c': 2.64, 'd': 3.39, 'e': 15.87, 'f': 0.95, 'g': 1.04, 'h': 0.77, 'i': 8.41, 'j': 0.89, 'k': 0.00, 'l': 5.34, 'm': 3.24, \n",
    "                      'n': 7.15, 'o': 5.14, 'p': 2.86, 'q': 1.06, 'r': 6.46, 's': 7.90, 't': 7.26, 'u': 6.24, 'v': 2.15, 'w': 0.00, 'x': 0.30, 'y': 0.24, 'z': 0.32} "
   ]
  },
  {
   "cell_type": "code",
   "execution_count": 627,
   "metadata": {},
   "outputs": [
    {
     "name": "stdout",
     "output_type": "stream",
     "text": [
      "{'e': 15.87, 'a': 9.42, 'i': 8.41, 's': 7.9, 't': 7.26, 'n': 7.15, 'r': 6.46, 'u': 6.24, 'l': 5.34, 'o': 5.14, 'd': 3.39, 'm': 3.24, 'p': 2.86, 'c': 2.64, 'v': 2.15, 'q': 1.06, 'g': 1.04, 'b': 1.02, 'f': 0.95, 'j': 0.89, 'h': 0.77, 'z': 0.32, 'x': 0.3, 'y': 0.24, 'k': 0.0, 'w': 0.0}\n",
      "{'w': 289, 'p': 147, 'e': 127, 'r': 121, 'k': 117, 'y': 90, 'j': 88, 'h': 82, 'a': 81, 'z': 79, 'l': 45, 'q': 42, 'c': 41, 'i': 30, 'u': 24, 't': 22, 'm': 17, 'o': 16, 'g': 15, 'x': 13, 'd': 8, 'f': 4, 'n': 2, 'v': 1}\n"
     ]
    }
   ],
   "source": [
    "# Sort the dictionary by frequency\n",
    "sorted_french_letters = dict(sorted(french_letter_freq.items(), key=lambda x:x[1], reverse=True))\n",
    "sorted_cipher_letters = dict(sorted(cipher_letter_freq.items(), key=lambda x:x[1], reverse=True))\n",
    "\n",
    "# Delete special character in the cipher letter dictionary\n",
    "del sorted_cipher_letters['\\n']\n",
    "del sorted_cipher_letters[' ']\n",
    "del sorted_cipher_letters['-']\n",
    "del sorted_cipher_letters[',']\n",
    "del sorted_cipher_letters['.']\n",
    "del sorted_cipher_letters['!']\n",
    "del sorted_cipher_letters['\\'']\n",
    "\n",
    "print(sorted_french_letters)\n",
    "print(sorted_cipher_letters)"
   ]
  },
  {
   "cell_type": "code",
   "execution_count": 628,
   "metadata": {},
   "outputs": [
    {
     "data": {
      "text/plain": [
       "{'w': 'e',\n",
       " 'p': 'a',\n",
       " 'e': 'i',\n",
       " 'r': 's',\n",
       " 'k': 't',\n",
       " 'y': 'n',\n",
       " 'j': 'r',\n",
       " 'h': 'u',\n",
       " 'a': 'l',\n",
       " 'z': 'o',\n",
       " 'l': 'd',\n",
       " 'q': 'm',\n",
       " 'c': 'p',\n",
       " 'i': 'c',\n",
       " 'u': 'v',\n",
       " 't': 'q',\n",
       " 'm': 'g',\n",
       " 'o': 'b',\n",
       " 'g': 'f',\n",
       " 'x': 'j',\n",
       " 'd': 'h',\n",
       " 'f': 'z',\n",
       " 'n': 'x',\n",
       " 'v': 'y'}"
      ]
     },
     "execution_count": 628,
     "metadata": {},
     "output_type": "execute_result"
    }
   ],
   "source": [
    "# Get the ordered letters of french language and cipher\n",
    "sorted_french_letters_list = list(sorted_french_letters.keys())\n",
    "sorted_cipher_letters_list = list(sorted_cipher_letters.keys())\n",
    "\n",
    "# Create the secret dictionary\n",
    "secret_dict = {}\n",
    "for k in range(len(sorted_cipher_letters_list)):\n",
    "\n",
    "    cipher_letter = sorted_cipher_letters_list[k]\n",
    "    french_letter = sorted_french_letters_list[k]\n",
    "\n",
    "    secret_dict[cipher_letter] = french_letter\n",
    "\n",
    "secret_dict"
   ]
  },
  {
   "cell_type": "code",
   "execution_count": 629,
   "metadata": {},
   "outputs": [
    {
     "name": "stdout",
     "output_type": "stream",
     "text": [
      "r irjue eaclts noh ceiaeea jltuunisea,\n",
      "got, seu oi nasle epuntlnis un iots,\n",
      "na depbtqqle mri eitfme snis nldeise,\n",
      "ye se anuoe, r feite ania cnletu !\n",
      "\n",
      "sri eaclts, seu oi qti mepnitame d'brlurfelte,\n",
      "a'eas futaae dnia uea dednuea de mn clrae,\n",
      "prmme oie pue clepteoae, r melvetuueoae mnfte,\n",
      "so na devrtue mea mzaselea, r mn jeuue lrae !\n",
      "\n",
      "sri dtcurme d'tifeiteole eas un cleove epunsnise,\n",
      "de sri anvrtl, de sri eaclts prigoelnis,\n",
      "mnta sn artq de priintaanipe ie priints crtis de utmtse,\n",
      "pnl sea brltxria a'eseideis jtei no-deun dea azasemea jtintlea.\n",
      "\n",
      "goe sea cna se meieis vela dea prisleea iroveuuea,\n",
      "ro uea pbtqqlea ae mnlteis noh mrsa uea cuoa jenoh,\n",
      "un ro uea egonstria dniaeis nvep uea ltmea,\n",
      "es uea nufrltsbmea ae priqrideis nvep uea epbra.\n",
      "\n",
      "goe uea cremea queoltaaeis aroa sn cuome bnjtue,\n",
      "goe sri feite a'ecnirotaae dnia u'nls aojstu,\n",
      "pnl so ea u'tifeiteole dea mrsa, un moae dea eacltsa,\n",
      "es sn goese de anvrtl eas oi slearl tiqtit.\n",
      "\n",
      "qeutptsnstria, r eaclts epuntle,\n",
      "srt got na leueve ue deqt de mri eitfme anplee,\n",
      "goe sn leoaatse tuuomtie sri pbemti,\n",
      "es goe sri snueis tiactle uea nmea ei goese de deasti.\n",
      "\n",
      "r jeuue tifeiteole, sn vtpsrtle eas furlteoae,\n",
      "es sea cna leariieis ei epbra bnlmriteoh,\n",
      "cotaaeis uea mrsa es uea pbtqqlea dniael n u'oitaari,\n",
      "es s'rqqltl oi nveitl lndteoh, r aojutme vtatri.\n",
      "\n",
      "qeutptsnstria, r irjue eaclts, so ea oi evetuueol,\n",
      "oi cris eisle uea mridea de u'nls es de un apteipe,\n",
      "goe sri cnlprola arts oie azmcbrite de uomtelea,\n",
      "es goe sn cnaatri s'eueve vela uea pteoh de un slniapeidnipe.\n",
      "\n",
      "jlnvr n srt, r depbtqqleoae emeltse,\n",
      "goe sri snueis epunse dnia oi qeo d'nlstqtpe,\n",
      "pnl so ea oie esrtue dnia un iots dea eitfmea,\n",
      "es sri eaclts jltuunis eas oie melvetuue de u'oitvela.\n",
      "\n",
      "goe uea mrsa a'eisleunpeis ei vela qeprida,\n",
      "es goe sri eaclts tifeiteoh rovle de irovenoh brltxria,\n",
      "qeutptsnstria, r pbele tifeiteole dea mrsa,\n",
      "goe sn vte arts oie azmcbrite ei celcesoeu leiroveno.\n"
     ]
    }
   ],
   "source": [
    "# Replace letters in the cipher by corresponding letter in the secret dictionary\n",
    "def decrypt(cipher, dict):\n",
    "    translation_table = str.maketrans(dict)\n",
    "    return cipher.translate(translation_table)\n",
    "\n",
    "    \n",
    "decrypted_message = decrypt(cipher_message.lower(), secret_dict)\n",
    "print(decrypted_message)"
   ]
  },
  {
   "cell_type": "markdown",
   "metadata": {},
   "source": [
    "# Second try\n",
    "Sa race, j'ai vraiment trop de temps à perdre"
   ]
  },
  {
   "cell_type": "code",
   "execution_count": 630,
   "metadata": {},
   "outputs": [
    {
     "name": "stdout",
     "output_type": "stream",
     "text": [
      "r mrfpe exqisz ghl qemxeex fisppgmzex,\n",
      "uhs, zep hm gxzie ekpgsigmz pg mhsz,\n",
      "gx tekwsbbie yrm emsoye zgmz gitemze,\n",
      "de ze xgphe, r oemse xgmx qgiesp !\n",
      "\n",
      "zrm exqisz, zep hm bsm yekgmsxye t'wriproeise,\n",
      "x'exz opsxxe tgmx pex tetgpex te yg qirxe,\n",
      "kryye hme kpe qieksehxe, r yeicesppehxe ygose,\n",
      "zh gx tecrspe yex ynxzeiex, r yg feppe irxe !\n",
      "\n",
      "zrm tsqprye t'smoemsehie exz pg qiehce ekpgzgmze,\n",
      "te zrm xgcrsi, te zrm exqisz krmuheigmz,\n",
      "ygsx zg xrsb te krmmgsxxgmke me krmmgsz qrsmz te psysze,\n",
      "kgi zex wrisvrmx x'ezemtemz fsem gh-tepg tex xnxzeyex fsmgsiex.\n",
      "\n",
      "uhe zex qgx ze yememz ceix tex krmzieex mrhceppex,\n",
      "rh pex kwsbbiex xe ygisemz ghl yrzx pex qphx feghl,\n",
      "pg rh pex euhgzsrmx tgmxemz gcek pex isyex,\n",
      "ez pex gporiszwyex xe krmbrmtemz gcek pex ekwrx.\n",
      "\n",
      "uhe pex qreyex bpehisxxemz xrhx zg qphye wgfspe,\n",
      "uhe zrm oemse x'eqgmrhsxxe tgmx p'giz xhfzsp,\n",
      "kgi zh ex p'smoemsehie tex yrzx, pg yhxe tex exqiszx,\n",
      "ez zg uheze te xgcrsi exz hm ziexri smbsms.\n",
      "\n",
      "bepskszgzsrmx, r exqisz ekpgsie,\n",
      "zrs uhs gx iepece pe tebs te yrm emsoye xgkiee,\n",
      "uhe zg iehxxsze spphysme zrm kweysm,\n",
      "ez uhe zrm zgpemz smxqsie pex gyex em uheze te texzsm.\n",
      "\n",
      "r feppe smoemsehie, zg cskzrsie exz oprisehxe,\n",
      "ez zex qgx iexrmmemz em ekwrx wgiyrmsehl,\n",
      "qhsxxemz pex yrzx ez pex kwsbbiex tgmxei g p'hmsxxrm,\n",
      "ez z'rbbisi hm gcemsi igtsehl, r xhfpsye csxsrm.\n",
      "\n",
      "bepskszgzsrmx, r mrfpe exqisz, zh ex hm ecesppehi,\n",
      "hm qrmz emzie pex yrmtex te p'giz ez te pg xksemke,\n",
      "uhe zrm qgikrhix xrsz hme xnyqwrmse te physeiex,\n",
      "ez uhe zg qgxxsrm z'epece ceix pex ksehl te pg zigmxkemtgmke.\n",
      "\n",
      "figcr g zrs, r tekwsbbiehxe eyeisze,\n",
      "uhe zrm zgpemz ekpgze tgmx hm beh t'gizsbske,\n",
      "kgi zh ex hme ezrspe tgmx pg mhsz tex emsoyex,\n",
      "ez zrm exqisz fisppgmz exz hme yeicesppe te p'hmsceix.\n",
      "\n",
      "uhe pex yrzx x'emziepgkemz em ceix bekrmtx,\n",
      "ez uhe zrm exqisz smoemsehl rhcie te mrhceghl wrisvrmx,\n",
      "bepskszgzsrmx, r kweie smoemsehie tex yrzx,\n",
      "uhe zg cse xrsz hme xnyqwrmse em qeiqezhep iemrhcegh.\n"
     ]
    }
   ],
   "source": [
    "# Rotating letters as in Cesar cipher\n",
    "def rotate_letters(n, crypted_message):\n",
    "\n",
    "    alphabet = list(string.ascii_lowercase)\n",
    "\n",
    "    secret_dict = {}\n",
    "    for k in range(len(alphabet)):\n",
    "\n",
    "        cipher_letter = alphabet[k]\n",
    "        decrypted_letter = alphabet[np.mod(k+n, len(alphabet))]\n",
    "\n",
    "        secret_dict[cipher_letter] = decrypted_letter\n",
    "\n",
    "    translation_table = str.maketrans(secret_dict)\n",
    "    return cipher_message.lower().translate(translation_table)\n",
    "\n",
    "\n",
    "decrypted_message = rotate_letters(8, cipher_message)\n",
    "print(decrypted_message)\n",
    "    "
   ]
  },
  {
   "cell_type": "markdown",
   "metadata": {},
   "source": [
    "# Third try \n",
    "Gros tu casse les burnes ça fait 1h30 que j'y suis. Bon j'ai capté qu'il y avais une clé... dernier essai"
   ]
  },
  {
   "cell_type": "code",
   "execution_count": 631,
   "metadata": {},
   "outputs": [
    {
     "data": {
      "image/png": "[encoded data removed]",
      "text/plain": [
       "<Figure size 432x288 with 1 Axes>"
      ]
     },
     "metadata": {
      "needs_background": "light"
     },
     "output_type": "display_data"
    }
   ],
   "source": [
    "# Find similar words in the cipher\n",
    "def find_duplicated_words(str):\n",
    "    words = str.split()\n",
    "    counts = {}\n",
    "    \n",
    "    for word in words:\n",
    "        keys = counts.keys()\n",
    "        if word in keys:\n",
    "            counts[word] += 1\n",
    "        else:\n",
    "            counts[word] = 1\n",
    "\n",
    "        duplicated_words = {key: value for key, value in counts.items() if value > 1}\n",
    "\n",
    "    return list(duplicated_words)\n",
    "\n",
    "# Find all the positions of a given word in the string\n",
    "def find_all(str, sub):\n",
    "    return [i for i in range(len(str)) if str.startswith(sub, i)]\n",
    "\n",
    "# Find common denominator\n",
    "def find_common_denom(str, words, min=1, max=20):\n",
    "\n",
    "    if False:\n",
    "        str = str.replace(\" \",\"\")\n",
    "        str = str.replace(\"!\",\"\")\n",
    "        str = str.replace(\",\",\"\")\n",
    "        str = str.replace(\".\",\"\")\n",
    "        str = str.replace(\"\\'\",\"\")\n",
    "        str = str.replace(\"\\n\",\"\")\n",
    "\n",
    "    indexes = []\n",
    "    denom = []\n",
    "\n",
    "    for word in words:\n",
    "        indexes += find_all(str, word)\n",
    "\n",
    "    for i in range(len(indexes)-1):\n",
    "        for j in np.arange(i, len(indexes)):\n",
    "            denom += [np.gcd(indexes[i], indexes[j])]   \n",
    "    \n",
    "\n",
    "    denom = [x for x in denom if x <= max and x >= min]\n",
    "\n",
    "    bins = np.arange(min, np.max(denom) + 1.5) -0.5\n",
    "\n",
    "    fig, ax = plt.subplots()\n",
    "    _ = ax.hist(denom, bins)\n",
    "    ax.set_xticks(bins + 0.5)\n",
    "    \n",
    "duplicated_words = find_duplicated_words(cipher_message.lower())\n",
    "\n",
    "find_common_denom(cipher_message.lower(), duplicated_words, min=3, max=20)"
   ]
  },
  {
   "cell_type": "markdown",
   "metadata": {},
   "source": [
    "# Forth and final try\n",
    "Okey fuck j'étais parti juste... Fallais juste réordonner quelques lettre encore..."
   ]
  },
  {
   "cell_type": "code",
   "execution_count": 632,
   "metadata": {},
   "outputs": [
    {
     "name": "stdout",
     "output_type": "stream",
     "text": [
      "o noble esprit aux pensees brillantes,\n",
      "qui, tel un astre eclairant la nuit,\n",
      "as dechiffre mon enigme tant ardente,\n",
      "je te salue, o genie sans pareil !\n",
      "\n",
      "ton esprit, tel un fin mecanisme d'horlogerie,\n",
      "s'est glisse dans les dedales de ma prose,\n",
      "comme une cle precieuse, o merveilleuse magie,\n",
      "tu as devoile mes mysteres, o ma belle rose !\n",
      "\n",
      "ton diplome d'ingenieure est la preuve eclatante,\n",
      "de ton savoir, de ton esprit conquerant,\n",
      "mais ta soif de connaissance ne connait point de limite,\n",
      "car tes horizons s'etendent bien au-dela des systemes binaires.\n",
      "\n",
      "que tes pas te menent vers des contrees nouvelles,\n",
      "ou les chiffres se marient aux mots les plus beaux,\n",
      "la ou les equations dansent avec les rimes,\n",
      "et les algorithmes se confondent avec les echos.\n",
      "\n",
      "que les poemes fleurissent sous ta plume habile,\n",
      "que ton genie s'epanouisse dans l'art subtil,\n",
      "car tu es l'ingenieure des mots, la muse des esprits,\n",
      "et ta quete de savoir est un tresor infini.\n",
      "\n",
      "felicitations, o esprit eclaire,\n",
      "toi qui as releve le defi de mon enigme sacree,\n",
      "que ta reussite illumine ton chemin,\n",
      "et que ton talent inspire les ames en quete de destin.\n",
      "\n",
      "o belle ingenieure, ta victoire est glorieuse,\n",
      "et tes pas resonnent en echos harmonieux,\n",
      "puissent les mots et les chiffres danser a l'unisson,\n",
      "et t'offrir un avenir radieux, o sublime vision.\n",
      "\n",
      "felicitations, o noble esprit, tu es un eveilleur,\n",
      "un pont entre les mondes de l'art et de la science,\n",
      "que ton parcours soit une symphonie de lumieres,\n",
      "et que ta passion t'eleve vers les cieux de la transcendance.\n",
      "\n",
      "bravo a toi, o dechiffreuse emerite,\n",
      "que ton talent eclate dans un feu d'artifice,\n",
      "car tu es une etoile dans la nuit des enigmes,\n",
      "et ton esprit brillant est une merveille de l'univers.\n",
      "\n",
      "que les mots s'entrelacent en vers feconds,\n",
      "et que ton esprit ingenieux ouvre de nouveaux horizons,\n",
      "felicitations, o chere ingenieure des mots,\n",
      "que ta vie soit une symphonie en perpetuel renouveau.\n"
     ]
    }
   ],
   "source": [
    "# Function to swap multiple letters in the dictionary\n",
    "def swap_letters(old_value, new_value, dict):\n",
    "\n",
    "    if len(old_value) != len(new_value):\n",
    "        print('The two strings should have the same length')\n",
    "        return\n",
    "\n",
    "    for k in range(len(old_value)):\n",
    "        for key, value in dict.items():\n",
    "            if value == old_value[k]:\n",
    "                dict[key] = new_value[k]\n",
    "\n",
    "            elif value == new_value[k]:\n",
    "                dict[key] = old_value[k]\n",
    "\n",
    "    return dict\n",
    "\n",
    "# Init a new array for modification\n",
    "secret_dict_modif = secret_dict.copy()\n",
    "secret_dict_modif = swap_letters('rijuacutahggjyz', 'onblspritxqfhjy', secret_dict_modif)\n",
    "\n",
    "\n",
    "decrypted_message = decrypt(cipher_message.lower(), secret_dict_modif)\n",
    "print(decrypted_message)"
   ]
  },
  {
   "cell_type": "markdown",
   "metadata": {},
   "source": [
    "# Conclusion\n",
    "J'ai la petite larme à l'oeil, presque plus pour la beauté du poème que d'être arrivé à la fin de ce problème de mes deux. En vrai, t'as une belle plume, Cléo va adoré !"
   ]
  }
 ],
 "metadata": {
  "kernelspec": {
   "display_name": "riddle_cleo-BbOlA-74",
   "language": "python",
   "name": "python3"
  },
  "language_info": {
   "codemirror_mode": {
    "name": "ipython",
    "version": 3
   },
   "file_extension": ".py",
   "mimetype": "text/x-python",
   "name": "python",
   "nbconvert_exporter": "python",
   "pygments_lexer": "ipython3",
   "version": "3.9.5"
  },
  "orig_nbformat": 4
 },
 "nbformat": 4,
 "nbformat_minor": 2
}
